{
 "cells": [
  {
   "cell_type": "code",
   "execution_count": 2,
   "id": "0da78b69-345e-4331-b545-ab80dabaa3b5",
   "metadata": {},
   "outputs": [],
   "source": [
    "import torch \n",
    "import matplotlib.pyplot as plt\n",
    "import torch.nn.functional as F"
   ]
  },
  {
   "cell_type": "code",
   "execution_count": 8,
   "id": "77c19407-239a-4a40-a4bb-eb97e1090f0b",
   "metadata": {},
   "outputs": [
    {
     "name": "stdout",
     "output_type": "stream",
     "text": [
      "torch.Size([1, 6, 6])\n"
     ]
    },
    {
     "data": {
      "image/png": "[encoded data removed]",
      "text/plain": [
       "<Figure size 640x480 with 1 Axes>"
      ]
     },
     "metadata": {},
     "output_type": "display_data"
    }
   ],
   "source": [
    "image = torch.rand(6,6)\n",
    "plt.imshow(image)\n",
    "image = image.unsqueeze(dim=0)\n",
    "print(image.shape)"
   ]
  },
  {
   "cell_type": "code",
   "execution_count": 44,
   "id": "45edd831-6f9c-41df-a61f-92c541cca4fb",
   "metadata": {},
   "outputs": [
    {
     "name": "stdout",
     "output_type": "stream",
     "text": [
      "torch.Size([1, 2, 2])\n",
      "torch.Size([1, 1, 1])\n",
      "torch.Size([1, 1, 1])\n",
      "torch.Size([1, 4, 4])\n",
      "torch.Size([1, 6, 6])\n",
      "torch.Size([1, 8, 8])\n"
     ]
    }
   ],
   "source": [
    "kernel = torch.ones(5,5).unsqueeze(dim = 0).unsqueeze(dim = 0)\n",
    "outimage = F.conv2d(image, kernel,stride = 1, padding = 0)\n",
    "print(outimage.shape)\n",
    "outimage = F.conv2d(image, kernel,stride = 2, padding = 0)\n",
    "print(outimage.shape)\n",
    "outimage = F.conv2d(image, kernel,stride = 3, padding = 0)\n",
    "print(outimage.shape)\n",
    "outimage = F.conv2d(image, kernel,stride = 1, padding = 1)\n",
    "print(outimage.shape)\n",
    "outimage = F.conv2d(image, kernel,stride = 1, padding = 2)\n",
    "print(outimage.shape)\n",
    "outimage = F.conv2d(image, kernel,stride = 1, padding = 3)\n",
    "print(outimage.shape)"
   ]
  },
  {
   "cell_type": "code",
   "execution_count": 79,
   "id": "d6501fa3-629f-4a49-9f6d-21745c127826",
   "metadata": {},
   "outputs": [],
   "source": [
    "kernels = torch.ones(3,1,3,3)"
   ]
  },
  {
   "cell_type": "code",
   "execution_count": 80,
   "id": "9e2c0e89-76c9-4589-b0f2-dc45dfd985b0",
   "metadata": {},
   "outputs": [
    {
     "name": "stdout",
     "output_type": "stream",
     "text": [
      "tensor([[[[1., 1., 1.],\n",
      "          [1., 1., 1.],\n",
      "          [1., 1., 1.]]],\n",
      "\n",
      "\n",
      "        [[[1., 1., 1.],\n",
      "          [1., 1., 1.],\n",
      "          [1., 1., 1.]]],\n",
      "\n",
      "\n",
      "        [[[1., 1., 1.],\n",
      "          [1., 1., 1.],\n",
      "          [1., 1., 1.]]]])\n"
     ]
    }
   ],
   "source": [
    "print(kernels)"
   ]
  },
  {
   "cell_type": "code",
   "execution_count": 81,
   "id": "e1b6ae3c-4c1e-4642-a61f-901668cca679",
   "metadata": {},
   "outputs": [],
   "source": [
    "def outputSize(imageDim, kernelDim, stride, padding):\n",
    "    return(imageDim-kernelDim + 2*padding)/stride + 1"
   ]
  },
  {
   "cell_type": "code",
   "execution_count": 82,
   "id": "22e62308-5fed-4f62-8bf6-18d62ca4c6bf",
   "metadata": {},
   "outputs": [
    {
     "name": "stdout",
     "output_type": "stream",
     "text": [
      "torch.Size([3, 4, 4])\n",
      "torch.Size([3, 4, 4])\n"
     ]
    }
   ],
   "source": [
    "con = torch.nn.Conv2d(in_channels = 1, out_channels = 3, kernel_size = (3,3), stride = 1, padding = 0)\n",
    "output = con(image)\n",
    "print(output.shape)\n",
    "outimage = F.conv2d(image,kernels)\n",
    "print(outimage.shape)"
   ]
  },
  {
   "cell_type": "code",
   "execution_count": null,
   "id": "0d8c14d1-7a4c-47af-8bca-e79bfd2a122c",
   "metadata": {},
   "outputs": [],
   "source": []
  },
  {
   "cell_type": "code",
   "execution_count": null,
   "id": "5d80a122-86a0-4e79-be43-a20899869885",
   "metadata": {},
   "outputs": [],
   "source": []
  }
 ],
 "metadata": {
  "kernelspec": {
   "display_name": "Python 3 (ipykernel)",
   "language": "python",
   "name": "python3"
  },
  "language_info": {
   "codemirror_mode": {
    "name": "ipython",
    "version": 3
   },
   "file_extension": ".py",
   "mimetype": "text/x-python",
   "name": "python",
   "nbconvert_exporter": "python",
   "pygments_lexer": "ipython3",
   "version": "3.10.12"
  }
 },
 "nbformat": 4,
 "nbformat_minor": 5
}
