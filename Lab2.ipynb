{
 "cells": [
  {
   "cell_type": "code",
   "execution_count": 50,
   "id": "c593188a-e763-4eee-961c-a59afc841ae4",
   "metadata": {},
   "outputs": [
    {
     "name": "stdout",
     "output_type": "stream",
     "text": [
      "tensor(14.)\n"
     ]
    }
   ],
   "source": [
    "#solved1\n",
    "\n",
    "import torch\n",
    "\n",
    "x = torch.tensor(3.5, requires_grad = True)\n",
    "y = x*x\n",
    "z = 2*y + 3\n",
    "z.backward()\n",
    "print(x.grad)"
   ]
  },
  {
   "cell_type": "code",
   "execution_count": 51,
   "id": "6a3c0462-d63a-4b64-ae22-b7dea9a9d73f",
   "metadata": {},
   "outputs": [
    {
     "name": "stdout",
     "output_type": "stream",
     "text": [
      "tensor(34.)\n"
     ]
    }
   ],
   "source": [
    "#Q1\n",
    "\n",
    "a = torch.tensor(1.0, requires_grad = True)\n",
    "b = torch.tensor(1.0, requires_grad = True)\n",
    "\n",
    "x = 2*a + 3*b\n",
    "y = 5*a*a + 3*b*b*b\n",
    "z = 2*x + 3*y\n",
    "\n",
    "z.backward()\n",
    "print(a.grad)"
   ]
  },
  {
   "cell_type": "code",
   "execution_count": 52,
   "id": "e4d1dbec-2be3-44c9-86a9-27a9f7a4c207",
   "metadata": {},
   "outputs": [
    {
     "name": "stdout",
     "output_type": "stream",
     "text": [
      "tensor(1.)\n"
     ]
    }
   ],
   "source": [
    "#Q2\n",
    "\n",
    "def relu(m):\n",
    "    if m<0:\n",
    "        return torch.tensor(0.0, requires_grad = True)\n",
    "    else:\n",
    "        return m\n",
    "\n",
    "b = torch.tensor(1.0, requires_grad = True)\n",
    "x = torch.tensor(1.0, requires_grad = True)\n",
    "w = torch.tensor(1.0, requires_grad = True)\n",
    "\n",
    "u = w*x\n",
    "v = u + b\n",
    "a = relu(v)\n",
    "\n",
    "a.backward()\n",
    "print(w.grad)"
   ]
  },
  {
   "cell_type": "code",
   "execution_count": 53,
   "id": "03bab2cb-2f3b-4535-8c0c-5edb74d85ee4",
   "metadata": {},
   "outputs": [
    {
     "name": "stdout",
     "output_type": "stream",
     "text": [
      "tensor(0.1050)\n"
     ]
    }
   ],
   "source": [
    "#Q3\n",
    "\n",
    "def sigmoid(m):\n",
    "    return 1/(1 + torch.exp(-m))\n",
    "\n",
    "b = torch.tensor(1.0, requires_grad = True)\n",
    "x = torch.tensor(1.0, requires_grad = True)\n",
    "w = torch.tensor(1.0, requires_grad = True)\n",
    "\n",
    "u = w*x\n",
    "v = u + b\n",
    "a = sigmoid(v)\n",
    "\n",
    "a.backward()\n",
    "print(w.grad)"
   ]
  },
  {
   "cell_type": "code",
   "execution_count": 62,
   "id": "a8178cdf-cef6-4ca6-9333-e37eda61b0ea",
   "metadata": {},
   "outputs": [
    {
     "name": "stdout",
     "output_type": "stream",
     "text": [
      "tensor(-3.)\n"
     ]
    }
   ],
   "source": [
    "#Q4\n",
    "\n",
    "x = torch.tensor(0.0, requires_grad = True)\n",
    "\n",
    "f = torch.exp(-(x)**2 - 2*x - torch.sin(x))\n",
    "\n",
    "f.backward()\n",
    "print(x.grad)"
   ]
  },
  {
   "cell_type": "code",
   "execution_count": 67,
   "id": "f5a21f6a-43e6-4949-af4f-852602bc4353",
   "metadata": {},
   "outputs": [
    {
     "name": "stdout",
     "output_type": "stream",
     "text": [
      "tensor(326.)\n"
     ]
    }
   ],
   "source": [
    "#Q5\n",
    "\n",
    "x = torch.tensor(2.0, requires_grad = True)\n",
    "\n",
    "f = 8*x**4 + 3*x**3 + 7*x**2 + 6*x + 3\n",
    "\n",
    "f.backward()\n",
    "print(x.grad)"
   ]
  },
  {
   "cell_type": "code",
   "execution_count": 69,
   "id": "b81264e3-4a20-40a7-af9c-16ad4bd5ca65",
   "metadata": {},
   "outputs": [
    {
     "name": "stdout",
     "output_type": "stream",
     "text": [
      "tensor(-0.1340)\n"
     ]
    }
   ],
   "source": [
    "#Q6\n",
    "\n",
    "x = torch.tensor(1.0, requires_grad = True)\n",
    "y = torch.tensor(1.0, requires_grad = True)\n",
    "z = torch.tensor(1.0, requires_grad = True)\n",
    "\n",
    "a = 2*x/torch.sin(y)\n",
    "b = torch.log(1 + a)\n",
    "g = torch.tanh(b)\n",
    "\n",
    "g.backward()\n",
    "print(y.grad)"
   ]
  },
  {
   "cell_type": "code",
   "execution_count": null,
   "id": "19b176d4-52b4-462f-888f-048f976b8f7a",
   "metadata": {},
   "outputs": [],
   "source": []
  }
 ],
 "metadata": {
  "kernelspec": {
   "display_name": "Python 3 (ipykernel)",
   "language": "python",
   "name": "python3"
  },
  "language_info": {
   "codemirror_mode": {
    "name": "ipython",
    "version": 3
   },
   "file_extension": ".py",
   "mimetype": "text/x-python",
   "name": "python",
   "nbconvert_exporter": "python",
   "pygments_lexer": "ipython3",
   "version": "3.11.7"
  }
 },
 "nbformat": 4,
 "nbformat_minor": 5
}
